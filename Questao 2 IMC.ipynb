{
  "nbformat": 4,
  "nbformat_minor": 0,
  "metadata": {
    "colab": {
      "name": "IMC.ipynb",
      "provenance": [],
      "collapsed_sections": [],
      "authorship_tag": "ABX9TyN73+rWV46TvVtjeqn6r2NT",
      "include_colab_link": true
    },
    "kernelspec": {
      "name": "python3",
      "display_name": "Python 3"
    },
    "language_info": {
      "name": "python"
    }
  },
  "cells": [
    {
      "cell_type": "markdown",
      "metadata": {
        "id": "view-in-github",
        "colab_type": "text"
      },
      "source": [
        "<a href=\"https://colab.research.google.com/github/Notueh/First-of-much/blob/main/IMC.ipynb\" target=\"_parent\"><img src=\"https://colab.research.google.com/assets/colab-badge.svg\" alt=\"Open In Colab\"/></a>"
      ]
    },
    {
      "cell_type": "markdown",
      "metadata": {
        "id": "SUiVnQF3L_pL"
      },
      "source": [
        "# Algoritmo que calcule IMC de um adulto\n",
        "\n",
        "*   o peso e altura não são inseridos pelo usuario\n",
        "*   ambos devem ser inseridos diretamente no codigo\n"
      ]
    },
    {
      "cell_type": "code",
      "metadata": {
        "colab": {
          "base_uri": "https://localhost:8080/"
        },
        "id": "HvIXgamwLymu",
        "outputId": "f7f20679-beff-4e0e-ce69-e69a6127b9ea"
      },
      "source": [
        "peso = 65\n",
        "altura = 1.77\n",
        "IMC = peso / (altura ** 2)\n",
        "print(\"O IMC dessa pessoa é \",IMC)\n",
        "\n",
        "if IMC <= 18.5 :\n",
        "    print(\"O IMC indica que a pessoa está abaixo do peso!\")\n",
        "elif IMC > 18.5 and IMC <= 25:\n",
        "    print(\"O IMC indica que a pessoa está com o peso normal!\")\n",
        "elif IMC > 25 and IMC <= 30:\n",
        "    print(\"O IMC indica que a pessoa está acima do peso!\")\n",
        "else :\n",
        "    print(\"O IMC indica que a pessoa é obesa!\")\n"
      ],
      "execution_count": null,
      "outputs": [
        {
          "output_type": "stream",
          "text": [
            "O IMC dessa pessoa é  20.747550193111813\n",
            "O IMC indica que a pessoa está com o peso normal!\n"
          ],
          "name": "stdout"
        }
      ]
    }
  ]
}
